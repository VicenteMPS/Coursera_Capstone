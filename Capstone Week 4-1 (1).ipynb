{
 "cells": [
  {
   "cell_type": "markdown",
   "metadata": {},
   "source": [
    "Cafe search"
   ]
  },
  {
   "cell_type": "markdown",
   "metadata": {},
   "source": [
    "Business description: My client is a bussinesman that would like to open his first cafe. He does not know about the business and would like to visit cafes to benchamark and gain new business ideas. The problem is that he has a limited budget and he can visit only one city. His business idea is inspired in an European style cafe, so he has in mind Paris, London, and Vienna as possible cities. \n",
    "He is asking me which of this 3 cities he should visit, this means: which is the one that has a larger ammounts of cafes in a certain area.\n",
    "Just to simplify the problem, we will concentrate in an area of radius 2000 meters."
   ]
  },
  {
   "cell_type": "markdown",
   "metadata": {},
   "source": [
    "Data description"
   ]
  },
  {
   "cell_type": "markdown",
   "metadata": {},
   "source": [
    "My two data sources will be google maps and foursquare.\n",
    "From google maps I will obtain the latitude and longitude of the city centers of the three cities that I want to study.\n",
    "Then, with my Foursquare credentials I will perform 3 searches for a specific venue category filtering by \"Cafe\", one search for each city.\n",
    "The result will be stored as a dataframe and processed. I will have 3 dataframes.\n",
    "Finally I will count the ammount of cafes that each city has"
   ]
  }
 ],
 "metadata": {
  "kernelspec": {
   "display_name": "Python",
   "language": "python",
   "name": "conda-env-python-py"
  },
  "language_info": {
   "codemirror_mode": {
    "name": "ipython",
    "version": 3
   },
   "file_extension": ".py",
   "mimetype": "text/x-python",
   "name": "python",
   "nbconvert_exporter": "python",
   "pygments_lexer": "ipython3",
   "version": "3.6.12"
  }
 },
 "nbformat": 4,
 "nbformat_minor": 4
}
